{
 "cells": [
  {
   "cell_type": "markdown",
   "metadata": {},
   "source": [
    "# Deep Neural Network with Keras: Simple example \n",
    "\n",
    "In this example, we classify grayscale images (28 × 28 pixels) of handwritten digits into their 10 categories (0 through 9). We will use the infamous `mNIST` dataset. It's a set of 60,000 training images, plus 10,000 test images, along with all their lables. The set was assembled by the National Institute of Standards and Technology (the NIST in MNIST) in the 1980s. \n",
    "\n",
    "As you will see in the code, training a neural network revolves around the following objects:\n",
    "- Layers, which are combined into a network (or model)\n",
    "- The input data and corresponding targets\n",
    "- The loss function, which defines the feedback signal used for learning\n",
    "- The optimizer, which determines how learning proceeds\n",
    "\n",
    "We build the NN by stacking two `Dense` layers on top of each other.\n",
    "\n",
    "**Reference**: Deep Learning with Python by FRANÇOIS CHOLLET\n",
    "\n",
    "**Technical note **: run with Python 3.6 and on my MacBook Pro with macOS Mojave Version 10.14."
   ]
  },
  {
   "cell_type": "code",
   "execution_count": 1,
   "metadata": {},
   "outputs": [
    {
     "name": "stderr",
     "output_type": "stream",
     "text": [
      "Using TensorFlow backend.\n"
     ]
    }
   ],
   "source": [
    "%matplotlib inline\n",
    "import matplotlib.pyplot as plt\n",
    "from keras import models\n",
    "from keras import layers\n",
    "from keras.datasets import mnist\n",
    "from keras.utils import to_categorical\n"
   ]
  },
  {
   "cell_type": "code",
   "execution_count": 2,
   "metadata": {
    "collapsed": true
   },
   "outputs": [],
   "source": [
    "# load mNIST data\n",
    "(train_images, train_labels), (test_images, test_labels) = mnist.load_data()"
   ]
  },
  {
   "cell_type": "code",
   "execution_count": 3,
   "metadata": {},
   "outputs": [
    {
     "name": "stdout",
     "output_type": "stream",
     "text": [
      "training inputs shape (samples, height, width): (60000, 28, 28)\n"
     ]
    }
   ],
   "source": [
    "# check the size of the input data (images)\n",
    "print('training inputs shape (samples, height, width):', train_images.shape)"
   ]
  },
  {
   "cell_type": "code",
   "execution_count": 4,
   "metadata": {},
   "outputs": [
    {
     "name": "stdout",
     "output_type": "stream",
     "text": [
      "uint8\n"
     ]
    }
   ],
   "source": [
    "# check data type of input data\n",
    "print(train_images.dtype)"
   ]
  },
  {
   "cell_type": "code",
   "execution_count": 5,
   "metadata": {},
   "outputs": [
    {
     "data": {
      "text/plain": [
       "(60000,)"
      ]
     },
     "execution_count": 5,
     "metadata": {},
     "output_type": "execute_result"
    }
   ],
   "source": [
    "# check the size of the target data (labels)\n",
    "train_labels.shape"
   ]
  },
  {
   "cell_type": "code",
   "execution_count": 6,
   "metadata": {
    "collapsed": true
   },
   "outputs": [],
   "source": [
    "# verify that the number of samples is the same for both input and targets\n",
    "assert len(train_labels) == train_images.shape[0]"
   ]
  },
  {
   "cell_type": "code",
   "execution_count": 7,
   "metadata": {},
   "outputs": [
    {
     "data": {
      "text/plain": [
       "array([5, 0, 4, ..., 5, 6, 8], dtype=uint8)"
      ]
     },
     "execution_count": 7,
     "metadata": {},
     "output_type": "execute_result"
    }
   ],
   "source": [
    "# investigate the target data (should be lables of 0 to 9)\n",
    "train_labels"
   ]
  },
  {
   "cell_type": "code",
   "execution_count": 8,
   "metadata": {},
   "outputs": [
    {
     "name": "stdout",
     "output_type": "stream",
     "text": [
      "test inputs shape (samples, height, width): (10000, 28, 28)\n",
      "what is inside test targets?\n"
     ]
    },
    {
     "data": {
      "text/plain": [
       "array([7, 2, 1, ..., 4, 5, 6], dtype=uint8)"
      ]
     },
     "execution_count": 8,
     "metadata": {},
     "output_type": "execute_result"
    }
   ],
   "source": [
    "# investigate the test inputs and target \n",
    "print('test inputs shape (samples, height, width):', test_images.shape)\n",
    "print('what is inside test targets?')\n",
    "test_labels"
   ]
  },
  {
   "cell_type": "code",
   "execution_count": 9,
   "metadata": {},
   "outputs": [
    {
     "name": "stdout",
     "output_type": "stream",
     "text": [
      "6\n"
     ]
    },
    {
     "data": {
      "image/png": "[encoded data removed]",
      "text/plain": [
       "<matplotlib.figure.Figure at 0x120e2d3c8>"
      ]
     },
     "metadata": {},
     "output_type": "display_data"
    }
   ],
   "source": [
    "# Look at one of the test images\n",
    "test_digit = test_images[11]\n",
    "plt.imshow(test_digit, cmap=plt.cm.binary)\n",
    "test_digit_label = test_labels[11] \n",
    "print(test_digit_label)"
   ]
  },
  {
   "cell_type": "code",
   "execution_count": 10,
   "metadata": {
    "collapsed": true
   },
   "outputs": [],
   "source": [
    "# setup the NN model archatecture\n",
    "# (1) the layers are sequentially stacked on top of each other\n",
    "network = models.Sequential()\n",
    "# (2) first layer, fully connected, number of hidden units = 512\n",
    "network.add(layers.Dense(512, activation='relu', input_shape=(28 * 28,)))\n",
    "# (3) last/output layer, fully connected, number of hidden units = 10\n",
    "network.add(layers.Dense(10, activation='softmax'))\n",
    "# (4) specifiy optimizer, loss function, & metrics to track during training\n",
    "network.compile(optimizer='rmsprop',\n",
    "                loss='categorical_crossentropy',\n",
    "                metrics=['accuracy'])"
   ]
  },
  {
   "cell_type": "code",
   "execution_count": 11,
   "metadata": {
    "collapsed": true
   },
   "outputs": [],
   "source": [
    "# preprocess the data by reshaping it into the shape the network expects\n",
    "# and rescale so that all values are in the [0, 1] interval\n",
    "train_images = train_images.reshape((60000, 28 * 28))\n",
    "train_images = train_images.astype('float32') / 255\n",
    "test_images = test_images.reshape((10000, 28 * 28))\n",
    "test_images = test_images.astype('float32') / 255"
   ]
  },
  {
   "cell_type": "code",
   "execution_count": 12,
   "metadata": {
    "collapsed": true
   },
   "outputs": [],
   "source": [
    "# Notice that the input images are stored in Numpy tensors, which are \n",
    "# here formatted as float32 tensors of shape (60000, 784) (training data) \n",
    "# and (10000, 784) (test data), respectively."
   ]
  },
  {
   "cell_type": "code",
   "execution_count": 13,
   "metadata": {
    "collapsed": true
   },
   "outputs": [],
   "source": [
    "# We also need to categorically encode the labels\n",
    "train_labels = to_categorical(train_labels)\n",
    "test_labels = to_categorical(test_labels)"
   ]
  },
  {
   "cell_type": "code",
   "execution_count": 14,
   "metadata": {},
   "outputs": [
    {
     "name": "stdout",
     "output_type": "stream",
     "text": [
      "Epoch 1/5\n",
      "60000/60000 [==============================] - 4s 73us/step - loss: 0.2555 - acc: 0.9254\n",
      "Epoch 2/5\n",
      "60000/60000 [==============================] - 5s 79us/step - loss: 0.1048 - acc: 0.9691\n",
      "Epoch 3/5\n",
      "60000/60000 [==============================] - 4s 69us/step - loss: 0.0688 - acc: 0.9791\n",
      "Epoch 4/5\n",
      "60000/60000 [==============================] - 4s 66us/step - loss: 0.0496 - acc: 0.9850\n",
      "Epoch 5/5\n",
      "60000/60000 [==============================] - 4s 68us/step - loss: 0.0376 - acc: 0.9885\n"
     ]
    },
    {
     "data": {
      "text/plain": [
       "<keras.callbacks.History at 0x131cdbf98>"
      ]
     },
     "execution_count": 14,
     "metadata": {},
     "output_type": "execute_result"
    }
   ],
   "source": [
    "# fit the model, given the specified archatecture, to the training data\n",
    "network.fit(train_images, train_labels, epochs=5, batch_size=128)\n",
    "# Two quantities are displayed during training: the loss of the network \n",
    "# over the training data, and the accuracy of the network over the training data."
   ]
  },
  {
   "cell_type": "code",
   "execution_count": 15,
   "metadata": {},
   "outputs": [
    {
     "name": "stdout",
     "output_type": "stream",
     "text": [
      "10000/10000 [==============================] - 1s 57us/step\n",
      "test accuracy: 0.9812\n"
     ]
    }
   ],
   "source": [
    "# Check how well the model perfomrs on the test set\n",
    "test_loss, test_acc = network.evaluate(test_images, test_labels)\n",
    "print('test accuracy:', test_acc)"
   ]
  }
 ],
 "metadata": {
  "kernelspec": {
   "display_name": "Python 3",
   "language": "python",
   "name": "python3"
  },
  "language_info": {
   "codemirror_mode": {
    "name": "ipython",
    "version": 3
   },
   "file_extension": ".py",
   "mimetype": "text/x-python",
   "name": "python",
   "nbconvert_exporter": "python",
   "pygments_lexer": "ipython3",
   "version": "3.6.3"
  }
 },
 "nbformat": 4,
 "nbformat_minor": 2
}
